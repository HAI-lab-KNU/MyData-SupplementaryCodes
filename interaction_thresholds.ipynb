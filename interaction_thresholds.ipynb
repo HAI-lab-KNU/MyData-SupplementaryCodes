{
 "cells": [
  {
   "cell_type": "code",
   "execution_count": 1,
   "id": "fb5207b3-5f20-4038-b5b7-47d6d86bfcee",
   "metadata": {},
   "outputs": [],
   "source": [
    "import os\n",
    "import pandas as pd\n",
    "\n",
    "# Dataset folder\n",
    "PATH_DATA = './Dataset'\n",
    "sensor_data = ['Service.csv', 'Interruptibility.csv']\n",
    "\n",
    "# Load CSVs\n",
    "dataframes = {\n",
    "    filename: pd.read_csv(os.path.join(PATH_DATA, filename)).reset_index(drop=True)\n",
    "    for filename in sensor_data\n",
    "}\n",
    "\n",
    "dfService = dataframes['Service.csv']\n",
    "dfInterruptibility = dataframes['Interruptibility.csv']\n",
    "\n",
    "# Compute SHORT_INTERACTION and LONG_INTERACTION from Service.csv\n",
    "short_interaction = dfService['availabilityInquiry'].notna()\n",
    "long_interaction = dfService['continue-to-nextInquiry1'].notna()  # 3-minute threshold\n",
    "\n",
    "# Optional thresholds:\n",
    "# for 5 minutes → continue-to-nextInquiry2\n",
    "# for 7 minutes → continue-to-nextInquiry3\n",
    "# for 9 minutes → continue-to-nextInquiry4\n",
    "\n",
    "# Update Interruptibility.csv with computed results\n",
    "dfInterruptibility['SHORT_INTERACTION_interruptibility'] = short_interaction.map({True: 'Interruptible', False: 'Uninterruptible'})\n",
    "dfInterruptibility['LONG_INTERACTION_interruptibility'] = long_interaction.map({True: 'Interruptible', False: 'Uninterruptible'})\n",
    "\n",
    "# Save updated Interruptibility.csv\n",
    "output_path = os.path.join(PATH_DATA, 'Interruptibility.csv')\n",
    "dfInterruptibility.to_csv(output_path, index=False)"
   ]
  },
  {
   "cell_type": "code",
   "execution_count": null,
   "id": "aef48e9c-e5f0-42cd-80ad-2e2fbc319bba",
   "metadata": {},
   "outputs": [],
   "source": []
  }
 ],
 "metadata": {
  "kernelspec": {
   "display_name": "Python 3 (ipykernel)",
   "language": "python",
   "name": "python3"
  },
  "language_info": {
   "codemirror_mode": {
    "name": "ipython",
    "version": 3
   },
   "file_extension": ".py",
   "mimetype": "text/x-python",
   "name": "python",
   "nbconvert_exporter": "python",
   "pygments_lexer": "ipython3",
   "version": "3.13.5"
  }
 },
 "nbformat": 4,
 "nbformat_minor": 5
}
